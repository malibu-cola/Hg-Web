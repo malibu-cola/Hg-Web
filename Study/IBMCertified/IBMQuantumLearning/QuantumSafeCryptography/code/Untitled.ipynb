{
 "cells": [
  {
   "cell_type": "markdown",
   "id": "cae28246",
   "metadata": {},
   "source": [
    "## SHA-256 を用いた暗号化ハッシングの例\n",
    "\n",
    "この簡単な例では`cryptography`というPythonライブラリを用いた有名なSHA-256アルゴリズムの暗号化ハッシングのデモンストレートである。\n",
    "　まず平文のわずかな差がハッシュ文に大きな差が生まれる方法を見せる\n"
   ]
  },
  {
   "cell_type": "code",
   "execution_count": 1,
   "id": "13bedfad",
   "metadata": {},
   "outputs": [
    {
     "name": "stdout",
     "output_type": "stream",
     "text": [
      "The two messages differ by 1 characters\n"
     ]
    }
   ],
   "source": [
    "from cryptography.hazmat.backends import default_backend\n",
    "from cryptography.hazmat.primitives import hashes\n",
    "\n",
    "def char_diff(str1, str2):\n",
    "    return sum(str1[i] != str2[i] for i in range(len(str1)))\n",
    "\n",
    "message1 = b\"Buy 10000 shares of WXYZ stock now!\"\n",
    "message2 = b\"Buy 10000 shares of VXYZ stock now!\"\n",
    "\n",
    "print(f'The two messages differ by {char_diff(message1, message2)} characters')"
   ]
  },
  {
   "cell_type": "markdown",
   "id": "38441b53",
   "metadata": {},
   "source": [
    "2つのメッセージは一文字異なる。\n",
    "次に`hash`オブジェクトをインストタンス化してハッシングプロセスを使用可能にする。これは`update`と`finalize`メソッドの呼び出しが含まれる。\n",
    "SHA-256 CHFの雪崩効果によって、一文字に入力メッセージの違いが、大きな違いとなる。"
   ]
  },
  {
   "cell_type": "code",
   "execution_count": 4,
   "id": "20034e6f",
   "metadata": {},
   "outputs": [
    {
     "name": "stdout",
     "output_type": "stream",
     "text": [
      "digest1: 6e0e6261b7131bd80ffdb2a4d42f9d042636350e45e184b92fcbcc9646eaf1e7\n",
      "digest2: 6b0abb368c3a1730f935b68105e3f3ae7fd43d7e786d3ed3503dbb45c74ada46\n",
      "The two digests differ by 57 characters\n"
     ]
    }
   ],
   "source": [
    "chf1 = hashes.Hash(hashes.SHA256(), backend=default_backend())\n",
    "chf2 = hashes.Hash(hashes.SHA256(), backend=default_backend())\n",
    "\n",
    "chf1.update(message1)\n",
    "chf2.update(message2)\n",
    "\n",
    "dgt1 = chf1.finalize()\n",
    "dgt2 = chf2.finalize()\n",
    "\n",
    "dgt1str = dgt1.hex()\n",
    "dgt2str = dgt2.hex()\n",
    "\n",
    "print(f'digest1: {dgt1str}')\n",
    "print(f'digest2: {dgt2str}')\n",
    "print(f'The two digests differ by {char_diff(dgt1str, dgt2str)} characters')"
   ]
  },
  {
   "cell_type": "code",
   "execution_count": null,
   "id": "7b1be732",
   "metadata": {},
   "outputs": [],
   "source": []
  }
 ],
 "metadata": {
  "kernelspec": {
   "display_name": "Python 3 (ipykernel)",
   "language": "python",
   "name": "python3"
  },
  "language_info": {
   "codemirror_mode": {
    "name": "ipython",
    "version": 3
   },
   "file_extension": ".py",
   "mimetype": "text/x-python",
   "name": "python",
   "nbconvert_exporter": "python",
   "pygments_lexer": "ipython3",
   "version": "3.11.6"
  }
 },
 "nbformat": 4,
 "nbformat_minor": 5
}
